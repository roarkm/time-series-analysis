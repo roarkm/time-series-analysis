{
 "cells": [
  {
   "cell_type": "code",
   "execution_count": 2,
   "id": "06adc6d3",
   "metadata": {},
   "outputs": [],
   "source": [
    "# OPTIONAL: Load the \"autoreload\" extension so that code can change\n",
    "%load_ext autoreload\n",
    "# OPTIONAL: always reload modules so that as you change code in src, it gets loaded\n",
    "%autoreload 2\n",
    "import pandas as pd\n",
    "from src.data import RAW_DATA_PATH\n",
    "from src.data.dataset import load_raw_data"
   ]
  },
  {
   "cell_type": "code",
   "execution_count": 3,
   "id": "556bb09b",
   "metadata": {},
   "outputs": [],
   "source": [
    "df = load_raw_data(RAW_DATA_PATH)"
   ]
  },
  {
   "cell_type": "code",
   "execution_count": 4,
   "id": "9fb9a7ec",
   "metadata": {},
   "outputs": [
    {
     "data": {
      "text/html": [
       "<div>\n",
       "<style scoped>\n",
       "    .dataframe tbody tr th:only-of-type {\n",
       "        vertical-align: middle;\n",
       "    }\n",
       "\n",
       "    .dataframe tbody tr th {\n",
       "        vertical-align: top;\n",
       "    }\n",
       "\n",
       "    .dataframe thead th {\n",
       "        text-align: right;\n",
       "    }\n",
       "</style>\n",
       "<table border=\"1\" class=\"dataframe\">\n",
       "  <thead>\n",
       "    <tr style=\"text-align: right;\">\n",
       "      <th></th>\n",
       "      <th>seq_guid</th>\n",
       "      <th>timestamp</th>\n",
       "      <th>value</th>\n",
       "      <th>date</th>\n",
       "    </tr>\n",
       "  </thead>\n",
       "  <tbody>\n",
       "    <tr>\n",
       "      <th>0</th>\n",
       "      <td>54ad727ddc76040900d55051|82267c03919ef18dabc33...</td>\n",
       "      <td>2017-09-27T11:00:00.000Z</td>\n",
       "      <td>2754</td>\n",
       "      <td>2017-09-27</td>\n",
       "    </tr>\n",
       "    <tr>\n",
       "      <th>1</th>\n",
       "      <td>54b80cb0cb084b0c00294f2a|6ce908fc9895fdfc035e4...</td>\n",
       "      <td>2018-06-08T01:00:00.000Z</td>\n",
       "      <td>538</td>\n",
       "      <td>2018-06-08</td>\n",
       "    </tr>\n",
       "    <tr>\n",
       "      <th>2</th>\n",
       "      <td>54bde3073deefe0c00a01401|46e37148a68739387c48b...</td>\n",
       "      <td>2017-11-28T02:00:00.000Z</td>\n",
       "      <td>1614</td>\n",
       "      <td>2017-11-28</td>\n",
       "    </tr>\n",
       "    <tr>\n",
       "      <th>3</th>\n",
       "      <td>54c6ea8213078c0c001cec71|044a408e374c8a102b709...</td>\n",
       "      <td>2018-04-02T03:00:00.000Z</td>\n",
       "      <td>22105</td>\n",
       "      <td>2018-04-02</td>\n",
       "    </tr>\n",
       "    <tr>\n",
       "      <th>4</th>\n",
       "      <td>54e643cd95962f0c004cde71|ee74f9800708efd6b39c3...</td>\n",
       "      <td>2018-05-29T00:00:00.000Z</td>\n",
       "      <td>7803</td>\n",
       "      <td>2018-05-29</td>\n",
       "    </tr>\n",
       "  </tbody>\n",
       "</table>\n",
       "</div>"
      ],
      "text/plain": [
       "                                            seq_guid   \n",
       "0  54ad727ddc76040900d55051|82267c03919ef18dabc33...  \\\n",
       "1  54b80cb0cb084b0c00294f2a|6ce908fc9895fdfc035e4...   \n",
       "2  54bde3073deefe0c00a01401|46e37148a68739387c48b...   \n",
       "3  54c6ea8213078c0c001cec71|044a408e374c8a102b709...   \n",
       "4  54e643cd95962f0c004cde71|ee74f9800708efd6b39c3...   \n",
       "\n",
       "                  timestamp  value       date  \n",
       "0  2017-09-27T11:00:00.000Z   2754 2017-09-27  \n",
       "1  2018-06-08T01:00:00.000Z    538 2018-06-08  \n",
       "2  2017-11-28T02:00:00.000Z   1614 2017-11-28  \n",
       "3  2018-04-02T03:00:00.000Z  22105 2018-04-02  \n",
       "4  2018-05-29T00:00:00.000Z   7803 2018-05-29  "
      ]
     },
     "execution_count": 4,
     "metadata": {},
     "output_type": "execute_result"
    }
   ],
   "source": [
    "df.head()"
   ]
  },
  {
   "cell_type": "code",
   "execution_count": 65,
   "id": "7495a607",
   "metadata": {},
   "outputs": [
    {
     "data": {
      "text/plain": [
       "seq_guid     False\n",
       "timestamp    False\n",
       "value        False\n",
       "dtype: bool"
      ]
     },
     "execution_count": 65,
     "metadata": {},
     "output_type": "execute_result"
    }
   ],
   "source": [
    "# null value check\n",
    "df.isnull().any()"
   ]
  },
  {
   "cell_type": "code",
   "execution_count": 66,
   "id": "b9723717",
   "metadata": {
    "scrolled": true
   },
   "outputs": [
    {
     "data": {
      "text/plain": [
       "'51534 unique seq_guids.'"
      ]
     },
     "execution_count": 66,
     "metadata": {},
     "output_type": "execute_result"
    }
   ],
   "source": [
    "f\"{len(df.seq_guid.unique())} unique seq_guids.\""
   ]
  },
  {
   "cell_type": "code",
   "execution_count": 67,
   "id": "8a1e2f3c",
   "metadata": {},
   "outputs": [
    {
     "data": {
      "text/plain": [
       "'Number of (seq_guid, timestamp) collisions = 0'"
      ]
     },
     "execution_count": 67,
     "metadata": {},
     "output_type": "execute_result"
    }
   ],
   "source": [
    "f\"Number of (seq_guid, timestamp) collisions = \\\n",
    "{len(df[df.duplicated(subset=['seq_guid', 'timestamp'], keep=False)])}\""
   ]
  },
  {
   "cell_type": "code",
   "execution_count": 68,
   "id": "1b20b3ee",
   "metadata": {
    "scrolled": false
   },
   "outputs": [],
   "source": [
    "# convert timestamp to datetime object and rewindow to one day\n",
    "df['date'] = (\n",
    "    pd.to_datetime(df.timestamp, format='%Y-%m-%dT%H:%M:%S.%fZ')\n",
    "    .dt.normalize()\n",
    ")"
   ]
  },
  {
   "cell_type": "code",
   "execution_count": 69,
   "id": "f145aeca",
   "metadata": {},
   "outputs": [
    {
     "data": {
      "text/plain": [
       "'Number of (seq_guid, date) collisions = 974'"
      ]
     },
     "execution_count": 69,
     "metadata": {},
     "output_type": "execute_result"
    }
   ],
   "source": [
    "f\"Number of (seq_guid, date) collisions = \\\n",
    "{len(df[df.duplicated(subset=['seq_guid', 'date'], keep=False)])}\""
   ]
  },
  {
   "cell_type": "code",
   "execution_count": 70,
   "id": "4f40a130",
   "metadata": {},
   "outputs": [
    {
     "data": {
      "text/plain": [
       "'Number of (seq_guid, date, value) collisions; i.e. duplicate rows after re-windowing = 970'"
      ]
     },
     "execution_count": 70,
     "metadata": {},
     "output_type": "execute_result"
    }
   ],
   "source": [
    "f\"Number of (seq_guid, date, value) collisions; i.e. duplicate rows after re-windowing = \\\n",
    "{len(df[df.duplicated(subset=['seq_guid', 'date', 'value'], keep=False)])}\""
   ]
  },
  {
   "cell_type": "code",
   "execution_count": 72,
   "id": "7a1404b4",
   "metadata": {},
   "outputs": [
    {
     "name": "stdout",
     "output_type": "stream",
     "text": [
      "There are 4 rows with ambiguous dates.\n"
     ]
    },
    {
     "data": {
      "text/html": [
       "<div>\n",
       "<style scoped>\n",
       "    .dataframe tbody tr th:only-of-type {\n",
       "        vertical-align: middle;\n",
       "    }\n",
       "\n",
       "    .dataframe tbody tr th {\n",
       "        vertical-align: top;\n",
       "    }\n",
       "\n",
       "    .dataframe thead th {\n",
       "        text-align: right;\n",
       "    }\n",
       "</style>\n",
       "<table border=\"1\" class=\"dataframe\">\n",
       "  <thead>\n",
       "    <tr style=\"text-align: right;\">\n",
       "      <th></th>\n",
       "      <th>seq_guid</th>\n",
       "      <th>timestamp</th>\n",
       "      <th>value</th>\n",
       "      <th>date</th>\n",
       "    </tr>\n",
       "  </thead>\n",
       "  <tbody>\n",
       "    <tr>\n",
       "      <th>34266</th>\n",
       "      <td>567b1c2b25684d18004c8e8e|d91ff4b3385e2980a277b...</td>\n",
       "      <td>2017-10-30T07:00:00.000Z</td>\n",
       "      <td>3390</td>\n",
       "      <td>2017-10-30</td>\n",
       "    </tr>\n",
       "    <tr>\n",
       "      <th>337533</th>\n",
       "      <td>567b1c2b25684d18004c8e8e|d91ff4b3385e2980a277b...</td>\n",
       "      <td>2017-10-30T00:00:00.000Z</td>\n",
       "      <td>6780</td>\n",
       "      <td>2017-10-30</td>\n",
       "    </tr>\n",
       "    <tr>\n",
       "      <th>82758</th>\n",
       "      <td>54e6b8ebca8f520c001bbfd4|5b0a591284c00a911fbbf...</td>\n",
       "      <td>2017-11-27T00:00:00.000Z</td>\n",
       "      <td>1000</td>\n",
       "      <td>2017-11-27</td>\n",
       "    </tr>\n",
       "    <tr>\n",
       "      <th>193283</th>\n",
       "      <td>54e6b8ebca8f520c001bbfd4|5b0a591284c00a911fbbf...</td>\n",
       "      <td>2017-11-27T08:00:00.000Z</td>\n",
       "      <td>500</td>\n",
       "      <td>2017-11-27</td>\n",
       "    </tr>\n",
       "  </tbody>\n",
       "</table>\n",
       "</div>"
      ],
      "text/plain": [
       "                                                 seq_guid  \\\n",
       "34266   567b1c2b25684d18004c8e8e|d91ff4b3385e2980a277b...   \n",
       "337533  567b1c2b25684d18004c8e8e|d91ff4b3385e2980a277b...   \n",
       "82758   54e6b8ebca8f520c001bbfd4|5b0a591284c00a911fbbf...   \n",
       "193283  54e6b8ebca8f520c001bbfd4|5b0a591284c00a911fbbf...   \n",
       "\n",
       "                       timestamp  value       date  \n",
       "34266   2017-10-30T07:00:00.000Z   3390 2017-10-30  \n",
       "337533  2017-10-30T00:00:00.000Z   6780 2017-10-30  \n",
       "82758   2017-11-27T00:00:00.000Z   1000 2017-11-27  \n",
       "193283  2017-11-27T08:00:00.000Z    500 2017-11-27  "
      ]
     },
     "execution_count": 72,
     "metadata": {},
     "output_type": "execute_result"
    }
   ],
   "source": [
    "idx = (\n",
    "    df.duplicated(subset=['seq_guid', 'date'], keep=False) \n",
    "    ^ df.duplicated(subset=['seq_guid', 'date', 'value'], keep=False)\n",
    ")\n",
    "ambiguous_records = df[idx].sort_values('date')\n",
    "print(f\"There are {len(ambiguous_records)} rows with ambiguous dates.\")\n",
    "ambiguous_records"
   ]
  },
  {
   "cell_type": "code",
   "execution_count": 5,
   "id": "5c8524b5",
   "metadata": {},
   "outputs": [
    {
     "data": {
      "text/plain": [
       "1"
      ]
     },
     "execution_count": 5,
     "metadata": {},
     "output_type": "execute_result"
    }
   ],
   "source": [
    "df.value.min()"
   ]
  },
  {
   "cell_type": "code",
   "execution_count": null,
   "id": "5b00f5e8",
   "metadata": {},
   "outputs": [],
   "source": []
  }
 ],
 "metadata": {
  "kernelspec": {
   "display_name": "Python 3 (ipykernel)",
   "language": "python",
   "name": "python3"
  },
  "language_info": {
   "codemirror_mode": {
    "name": "ipython",
    "version": 3
   },
   "file_extension": ".py",
   "mimetype": "text/x-python",
   "name": "python",
   "nbconvert_exporter": "python",
   "pygments_lexer": "ipython3",
   "version": "3.8.10"
  }
 },
 "nbformat": 4,
 "nbformat_minor": 5
}
