{
 "cells": [
  {
   "cell_type": "code",
   "execution_count": 1,
   "id": "498890fe",
   "metadata": {},
   "outputs": [],
   "source": [
    "# OPTIONAL: Load the \"autoreload\" extension so that code can change\n",
    "%load_ext autoreload\n",
    "# OPTIONAL: always reload modules so that as you change code in src, it gets loaded\n",
    "%autoreload 2\n",
    "from src.data.dataset import load_dataset_and_build_features\n",
    "\n",
    "import matplotlib.pyplot as plt\n",
    "%matplotlib inline\n",
    "import numpy as np\n",
    "import pandas as pd\n",
    "from pandas.plotting import register_matplotlib_converters\n",
    "figure_width = 15 # \"inches\"\n",
    "fig_path = 'reports/figures/'"
   ]
  },
  {
   "cell_type": "code",
   "execution_count": 2,
   "id": "33de6ce5",
   "metadata": {},
   "outputs": [
    {
     "data": {
      "text/html": [
       "<div>\n",
       "<style scoped>\n",
       "    .dataframe tbody tr th:only-of-type {\n",
       "        vertical-align: middle;\n",
       "    }\n",
       "\n",
       "    .dataframe tbody tr th {\n",
       "        vertical-align: top;\n",
       "    }\n",
       "\n",
       "    .dataframe thead th {\n",
       "        text-align: right;\n",
       "    }\n",
       "</style>\n",
       "<table border=\"1\" class=\"dataframe\">\n",
       "  <thead>\n",
       "    <tr style=\"text-align: right;\">\n",
       "      <th></th>\n",
       "      <th></th>\n",
       "      <th>timestamp</th>\n",
       "      <th>value</th>\n",
       "      <th>day_of_week</th>\n",
       "      <th>weekend</th>\n",
       "      <th>fed_holiday</th>\n",
       "    </tr>\n",
       "    <tr>\n",
       "      <th>seq_guid</th>\n",
       "      <th>date</th>\n",
       "      <th></th>\n",
       "      <th></th>\n",
       "      <th></th>\n",
       "      <th></th>\n",
       "      <th></th>\n",
       "    </tr>\n",
       "  </thead>\n",
       "  <tbody>\n",
       "    <tr>\n",
       "      <th rowspan=\"3\" valign=\"top\">53a85331e431960200466a39|140fae5cfea3485ab5c6d7f7266677ba|0</th>\n",
       "      <th>2018-03-05</th>\n",
       "      <td>2018-03-05T00:00:00.000Z</td>\n",
       "      <td>25000</td>\n",
       "      <td>0</td>\n",
       "      <td>0</td>\n",
       "      <td>0</td>\n",
       "    </tr>\n",
       "    <tr>\n",
       "      <th>2018-04-11</th>\n",
       "      <td>2018-04-11T00:00:00.000Z</td>\n",
       "      <td>25600</td>\n",
       "      <td>2</td>\n",
       "      <td>0</td>\n",
       "      <td>0</td>\n",
       "    </tr>\n",
       "    <tr>\n",
       "      <th>2018-04-25</th>\n",
       "      <td>2018-04-25T00:00:00.000Z</td>\n",
       "      <td>25000</td>\n",
       "      <td>2</td>\n",
       "      <td>0</td>\n",
       "      <td>0</td>\n",
       "    </tr>\n",
       "    <tr>\n",
       "      <th>53a85378e431960200469d42|76f7222aa18d6b39a7ebdd5168b1ffd4|0</th>\n",
       "      <th>2018-01-26</th>\n",
       "      <td>2018-01-26T00:00:00.000Z</td>\n",
       "      <td>12100</td>\n",
       "      <td>4</td>\n",
       "      <td>0</td>\n",
       "      <td>0</td>\n",
       "    </tr>\n",
       "    <tr>\n",
       "      <th>53a85378e431960200469d42|ff242a09ec5b7f16a4941334c39783ea|0</th>\n",
       "      <th>2017-10-02</th>\n",
       "      <td>2017-10-02T00:00:00.000Z</td>\n",
       "      <td>600</td>\n",
       "      <td>0</td>\n",
       "      <td>0</td>\n",
       "      <td>0</td>\n",
       "    </tr>\n",
       "  </tbody>\n",
       "</table>\n",
       "</div>"
      ],
      "text/plain": [
       "                                                                              timestamp   \n",
       "seq_guid                                           date                                   \n",
       "53a85331e431960200466a39|140fae5cfea3485ab5c6d7... 2018-03-05  2018-03-05T00:00:00.000Z  \\\n",
       "                                                   2018-04-11  2018-04-11T00:00:00.000Z   \n",
       "                                                   2018-04-25  2018-04-25T00:00:00.000Z   \n",
       "53a85378e431960200469d42|76f7222aa18d6b39a7ebdd... 2018-01-26  2018-01-26T00:00:00.000Z   \n",
       "53a85378e431960200469d42|ff242a09ec5b7f16a49413... 2017-10-02  2017-10-02T00:00:00.000Z   \n",
       "\n",
       "                                                               value   \n",
       "seq_guid                                           date                \n",
       "53a85331e431960200466a39|140fae5cfea3485ab5c6d7... 2018-03-05  25000  \\\n",
       "                                                   2018-04-11  25600   \n",
       "                                                   2018-04-25  25000   \n",
       "53a85378e431960200469d42|76f7222aa18d6b39a7ebdd... 2018-01-26  12100   \n",
       "53a85378e431960200469d42|ff242a09ec5b7f16a49413... 2017-10-02    600   \n",
       "\n",
       "                                                               day_of_week   \n",
       "seq_guid                                           date                      \n",
       "53a85331e431960200466a39|140fae5cfea3485ab5c6d7... 2018-03-05            0  \\\n",
       "                                                   2018-04-11            2   \n",
       "                                                   2018-04-25            2   \n",
       "53a85378e431960200469d42|76f7222aa18d6b39a7ebdd... 2018-01-26            4   \n",
       "53a85378e431960200469d42|ff242a09ec5b7f16a49413... 2017-10-02            0   \n",
       "\n",
       "                                                               weekend   \n",
       "seq_guid                                           date                  \n",
       "53a85331e431960200466a39|140fae5cfea3485ab5c6d7... 2018-03-05        0  \\\n",
       "                                                   2018-04-11        0   \n",
       "                                                   2018-04-25        0   \n",
       "53a85378e431960200469d42|76f7222aa18d6b39a7ebdd... 2018-01-26        0   \n",
       "53a85378e431960200469d42|ff242a09ec5b7f16a49413... 2017-10-02        0   \n",
       "\n",
       "                                                               fed_holiday  \n",
       "seq_guid                                           date                     \n",
       "53a85331e431960200466a39|140fae5cfea3485ab5c6d7... 2018-03-05            0  \n",
       "                                                   2018-04-11            0  \n",
       "                                                   2018-04-25            0  \n",
       "53a85378e431960200469d42|76f7222aa18d6b39a7ebdd... 2018-01-26            0  \n",
       "53a85378e431960200469d42|ff242a09ec5b7f16a49413... 2017-10-02            0  "
      ]
     },
     "execution_count": 2,
     "metadata": {},
     "output_type": "execute_result"
    }
   ],
   "source": [
    "df = load_dataset_and_build_features()\n",
    "df.head()"
   ]
  },
  {
   "cell_type": "code",
   "execution_count": 3,
   "id": "43e6da74",
   "metadata": {
    "scrolled": false
   },
   "outputs": [
    {
     "ename": "NameError",
     "evalue": "name 'outlier_threshold' is not defined",
     "output_type": "error",
     "traceback": [
      "\u001b[0;31m---------------------------------------------------------------------------\u001b[0m",
      "\u001b[0;31mNameError\u001b[0m                                 Traceback (most recent call last)",
      "Cell \u001b[0;32mIn[3], line 1\u001b[0m\n\u001b[0;32m----> 1\u001b[0m _df \u001b[38;5;241m=\u001b[39m df[df\u001b[38;5;241m.\u001b[39mvalue \u001b[38;5;241m<\u001b[39m df\u001b[38;5;241m.\u001b[39mvalue\u001b[38;5;241m.\u001b[39mquantile(\u001b[43moutlier_threshold\u001b[49m)]\n\u001b[1;32m      2\u001b[0m outliers \u001b[38;5;241m=\u001b[39m df[df\u001b[38;5;241m.\u001b[39mvalue \u001b[38;5;241m>\u001b[39m\u001b[38;5;241m=\u001b[39m df\u001b[38;5;241m.\u001b[39mvalue\u001b[38;5;241m.\u001b[39mquantile(outlier_threshold)]\n\u001b[1;32m      3\u001b[0m weekends \u001b[38;5;241m=\u001b[39m _df\u001b[38;5;241m.\u001b[39mloc[df\u001b[38;5;241m.\u001b[39mweekend \u001b[38;5;241m==\u001b[39m \u001b[38;5;241m1\u001b[39m]\n",
      "\u001b[0;31mNameError\u001b[0m: name 'outlier_threshold' is not defined"
     ]
    }
   ],
   "source": [
    "outlier_tre\n",
    "_df = df[df.value < df.value.quantile(outlier_threshold)]\n",
    "outliers = df[df.value >= df.value.quantile(outlier_threshold)]\n",
    "weekends = _df.loc[df.weekend == 1]\n",
    "weekdays = _df.loc[df.weekend == 0]\n",
    "\n",
    "fig, ax = plt.subplots(figsize=(figure_width,5))\n",
    "ax.set_yscale('log')\n",
    "plt.title(f\"log(Values) By Date (outlier quantile: {outlier_threshold})\")\n",
    "plt.xlabel(\"Date\")\n",
    "plt.ylabel(\"log(Value))\")\n",
    "\n",
    "ax.plot(weekdays.reset_index().date, weekdays.value,\n",
    "        marker='.', linestyle='', label='MTWThF')\n",
    "ax.plot(weekends.reset_index().date, weekends.value,\n",
    "        marker='.', linestyle='',\n",
    "        c='green', label='Sat/Sun')\n",
    "ax.plot(outliers.reset_index().date, outliers.value,\n",
    "        marker='.', linestyle='', c='r')\n",
    "\n",
    "plt.axhline(df.value.quantile(outlier_threshold),\n",
    "            color='r', linestyle='dashed',\n",
    "            linewidth=1, label=f\"{outlier_threshold} Percentile\")\n",
    "ax.legend()"
   ]
  },
  {
   "cell_type": "code",
   "execution_count": null,
   "id": "a19d7774",
   "metadata": {},
   "outputs": [],
   "source": [
    "wd_mean_vals = df.reset_index().groupby('day_of_week').value.mean().astype(float).round(0)\n",
    "wd_totals = df.reset_index().groupby('day_of_week').day_of_week.value_counts()\n",
    "wd = pd.DataFrame({'Record Counts': wd_totals,\n",
    "                   'Mean Value per Day': wd_mean_vals})\n",
    "wd.index = wd.index.map(\n",
    "    {0:'Mon', 1:'Tue', 2:'Wed', 3:'Thu', 4:'Fri', 5:'Sat', 6:'Sun'}.get\n",
    ")\n",
    "ax = wd.plot.bar(rot=0,\n",
    "                 title='Records per Weekday',\n",
    "                 figsize=(figure_width,3),\n",
    "                 width=.9)\n",
    "for cont in ax.containers:\n",
    "    ax.bar_label(cont, label_type='center')\n",
    "# ax.get_figure().savefig(fig_path+'deposits_per_weekday.png', bbox_inches='tight')"
   ]
  },
  {
   "cell_type": "code",
   "execution_count": null,
   "id": "c5368cc8",
   "metadata": {},
   "outputs": [],
   "source": [
    "n_bins = 3 * (10**2)\n",
    "plt.title(f\"Value Histogram\")\n",
    "plt.xlabel(\"Value\")\n",
    "plt.ylabel(\"log(Count(Values))\")\n",
    "ax = df.value.hist(bins=n_bins, figsize=(figure_width,5), log=True)\n",
    "min_ylim, max_ylim = plt.ylim()"
   ]
  },
  {
   "cell_type": "code",
   "execution_count": null,
   "id": "2b357c1f",
   "metadata": {},
   "outputs": [],
   "source": [
    "seq_lens = df.reset_index().seq_guid.value_counts()\n",
    "plt.title('Sequence Length Counts (log scale)')\n",
    "plt.xlabel('Sequence Length')\n",
    "plt.ylabel('log(Seq Length Count)')\n",
    "ax = seq_lens.hist(bins=seq_lens.max(), figsize=(figure_width,4), log=True)\n",
    "plt.axvline(seq_lens.mean(), color='k', linestyle='dashed', linewidth=1)\n",
    "min_ylim, max_ylim = plt.ylim()\n",
    "plt.text(seq_lens.mean()*1.1,\n",
    "         max_ylim*0.4,\n",
    "         'Mean Seq Length: {:.1f}'.format(seq_lens.mean()))"
   ]
  },
  {
   "cell_type": "code",
   "execution_count": null,
   "id": "d963fd31",
   "metadata": {},
   "outputs": [],
   "source": [
    "# does sequence length correlate with value?\n",
    "df['seq_len'] = pd.Series(dtype='Int64')\n",
    "for idx, length in seq_lens.items():\n",
    "    df.loc[idx, 'seq_len'] = int(length)\n",
    "(df.reset_index()\n",
    "   .drop(['seq_guid','timestamp','fed_holiday','date','day_of_week', 'weekend'], axis=1)\n",
    "   .corr())"
   ]
  },
  {
   "cell_type": "code",
   "execution_count": null,
   "id": "9cf44900",
   "metadata": {},
   "outputs": [],
   "source": [
    "from scipy import stats"
   ]
  },
  {
   "cell_type": "code",
   "execution_count": null,
   "id": "6ef9e72e",
   "metadata": {},
   "outputs": [],
   "source": [
    "# Does value correlate with federal holidays?\n",
    "stats.pointbiserialr(df.fed_holiday, df.value)"
   ]
  },
  {
   "cell_type": "code",
   "execution_count": null,
   "id": "2e912c88",
   "metadata": {},
   "outputs": [],
   "source": [
    "# Does value correlate with weekend status?\n",
    "stats.pointbiserialr(df.weekend, df.value)"
   ]
  }
 ],
 "metadata": {
  "kernelspec": {
   "display_name": "Python 3 (ipykernel)",
   "language": "python",
   "name": "python3"
  },
  "language_info": {
   "codemirror_mode": {
    "name": "ipython",
    "version": 3
   },
   "file_extension": ".py",
   "mimetype": "text/x-python",
   "name": "python",
   "nbconvert_exporter": "python",
   "pygments_lexer": "ipython3",
   "version": "3.8.10"
  }
 },
 "nbformat": 4,
 "nbformat_minor": 5
}
